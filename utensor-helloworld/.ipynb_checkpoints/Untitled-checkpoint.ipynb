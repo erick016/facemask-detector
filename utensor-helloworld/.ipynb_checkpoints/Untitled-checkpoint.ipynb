{
 "cells": [
  {
   "cell_type": "code",
   "execution_count": 1,
   "metadata": {},
   "outputs": [],
   "source": [
    "from utensor_cgen.api.export import tflm_keras_export"
   ]
  },
  {
   "cell_type": "code",
   "execution_count": 2,
   "metadata": {},
   "outputs": [],
   "source": [
    "from __future__ import absolute_import, division, print_function, unicode_literals\n",
    "\n",
    "import tensorflow as tf\n",
    "import numpy as np\n",
    "import os\n",
    "import cv2\n",
    "import random\n",
    "\n",
    "DATADIR = \"C:/Users/jerickson/Documents/CS688/Dataset/Dataset\"\n",
    "CATEGORIES = [\"with_mask\",\"without_mask\"]\n",
    "\n",
    "all_data = []\n",
    "\n",
    "IMG_SIZE = 28\n",
    "\n",
    "def create_all_data():\n",
    "    for category in CATEGORIES:\n",
    "        path = os.path.join(DATADIR,category)\n",
    "        class_num = CATEGORIES.index(category)\n",
    "        for img in os.listdir(path):\n",
    "            try:\n",
    "                img_array = cv2.imread(os.path.join(path,img), cv2.IMREAD_GRAYSCALE)\n",
    "                new_array = cv2.resize(img_array, (IMG_SIZE, IMG_SIZE))\n",
    "                new_array = new_array / 255.0\n",
    "                all_data.append([new_array, class_num])\n",
    "            except Exception as e:\n",
    "                pass\n",
    "\n",
    "create_all_data()"
   ]
  },
  {
   "cell_type": "code",
   "execution_count": 3,
   "metadata": {},
   "outputs": [
    {
     "name": "stdout",
     "output_type": "stream",
     "text": [
      "11042\n"
     ]
    }
   ],
   "source": [
    "all_data_len = int(len(all_data))\n",
    "\n",
    "print(all_data_len)\n",
    "\n",
    "random.shuffle(all_data)\n",
    "\n",
    "test_size = int(all_data_len * 0.2)\n",
    "\n",
    "slice_1 = all_data_len - test_size\n",
    "slice_2 = -1*test_size\n",
    "train_data = all_data[:slice_1]\n",
    "test_data = all_data[slice_2:]\n",
    "\n",
    "train_features = []\n",
    "train_label = []\n",
    "\n",
    "test_features = []\n",
    "test_label = []\n",
    "\n",
    "for features,label in train_data:\n",
    "    train_features.append(features)\n",
    "    train_label.append(label)\n",
    "    \n",
    "\n",
    "\n",
    "for features,label in test_data:\n",
    "    test_features.append(features)\n",
    "    test_label.append(label)\n",
    "\n",
    "    \n",
    "train_features = np.array(train_features).reshape(-1, IMG_SIZE, IMG_SIZE, 1)\n",
    "test_features = np.array(test_features).reshape(-1, IMG_SIZE, IMG_SIZE, 1)\n",
    "\n",
    "\n",
    "train_ds = tf.data.Dataset.from_tensor_slices(\n",
    "    (train_features, train_label)).shuffle(10000).batch(32)\n",
    "\n",
    "test_ds = tf.data.Dataset.from_tensor_slices((test_features, test_label)).batch(32)\n"
   ]
  },
  {
   "cell_type": "code",
   "execution_count": 4,
   "metadata": {},
   "outputs": [
    {
     "name": "stdout",
     "output_type": "stream",
     "text": [
      "TensorFlow Version: 2.1.0\n"
     ]
    }
   ],
   "source": [
    "from tensorflow.keras.layers import Dense, Flatten, Conv2D, MaxPooling2D\n",
    "from tensorflow.keras import Model\n",
    "\n",
    "tf.keras.backend.clear_session()\n",
    "print(\"TensorFlow Version: \" + tf.__version__)"
   ]
  },
  {
   "cell_type": "code",
   "execution_count": 5,
   "metadata": {},
   "outputs": [],
   "source": [
    "class MyModel(Model):\n",
    "  def __init__(self):\n",
    "    super(MyModel, self).__init__()\n",
    "    self.conv1 = Conv2D(8, 3, activation='relu')\n",
    "    self.pool = MaxPooling2D()\n",
    "    self.flatten = Flatten()\n",
    "    self.d1 = Dense(16, activation='relu')\n",
    "    self.d2 = Dense(10)\n",
    "\n",
    "  def call(self, x):\n",
    "    x0 = self.pool(x)\n",
    "    x1 = self.conv1(x0)\n",
    "    x2 = self.pool(x1)\n",
    "    x3 = self.flatten(x2)\n",
    "    x4 = self.d1(x3)\n",
    "    return self.d2(x4)\n",
    "\n",
    "model = MyModel()"
   ]
  },
  {
   "cell_type": "code",
   "execution_count": 6,
   "metadata": {},
   "outputs": [],
   "source": [
    "loss_object = tf.keras.losses.SparseCategoricalCrossentropy(from_logits=True)\n",
    "\n",
    "optimizer = tf.keras.optimizers.Adam()"
   ]
  },
  {
   "cell_type": "code",
   "execution_count": 7,
   "metadata": {},
   "outputs": [],
   "source": [
    "train_loss = tf.keras.metrics.Mean(name='train_loss')\n",
    "train_accuracy = tf.keras.metrics.SparseCategoricalAccuracy(name='train_accuracy')\n",
    "\n",
    "test_loss = tf.keras.metrics.Mean(name='test_loss')\n",
    "test_accuracy = tf.keras.metrics.SparseCategoricalAccuracy(name='test_accuracy')"
   ]
  },
  {
   "cell_type": "code",
   "execution_count": 8,
   "metadata": {},
   "outputs": [],
   "source": [
    "@tf.function\n",
    "def train_step(images, labels):\n",
    "  with tf.GradientTape() as tape:\n",
    "    # training=True is only needed if there are layers with different\n",
    "    # behavior during training versus inference (e.g. Dropout).\n",
    "    predictions = model(images, training=True)\n",
    "    loss = loss_object(labels, predictions)\n",
    "  gradients = tape.gradient(loss, model.trainable_variables)\n",
    "  optimizer.apply_gradients(zip(gradients, model.trainable_variables))\n",
    "\n",
    "  train_loss(loss)\n",
    "  train_accuracy(labels, predictions)"
   ]
  },
  {
   "cell_type": "code",
   "execution_count": 9,
   "metadata": {},
   "outputs": [],
   "source": [
    "@tf.function\n",
    "def test_step(images, labels):\n",
    "  # training=False is only needed if there are layers with different\n",
    "  # behavior during training versus inference (e.g. Dropout).\n",
    "  predictions = model(images, training=False)\n",
    "  t_loss = loss_object(labels, predictions)\n",
    "\n",
    "  test_loss(t_loss)\n",
    "  test_accuracy(labels, predictions)"
   ]
  },
  {
   "cell_type": "code",
   "execution_count": 10,
   "metadata": {},
   "outputs": [
    {
     "name": "stdout",
     "output_type": "stream",
     "text": [
      "WARNING:tensorflow:Layer my_model is casting an input tensor from dtype float64 to the layer's dtype of float32, which is new behavior in TensorFlow 2.  The layer has dtype float32 because it's dtype defaults to floatx.\n",
      "\n",
      "If you intended to run this layer in float32, you can safely ignore this warning. If in doubt, this warning is likely only an issue if you are porting a TensorFlow 1.X model to TensorFlow 2.\n",
      "\n",
      "To change all layers to have dtype float64 by default, call `tf.keras.backend.set_floatx('float64')`. To change just this layer, pass dtype='float64' to the layer constructor. If you are the author of this layer, you can disable autocasting by passing autocast=False to the base Layer constructor.\n",
      "\n",
      "Epoch 1, Loss: 0.7667830586433411, Accuracy: 68.19107818603516, Test Loss: 0.5341504812240601, Test Accuracy: 77.76268005371094\n",
      "Epoch 2, Loss: 0.47818446159362793, Accuracy: 78.94498443603516, Test Loss: 0.4361969828605652, Test Accuracy: 81.38587188720703\n",
      "Epoch 3, Loss: 0.4112797975540161, Accuracy: 82.31832122802734, Test Loss: 0.38224753737449646, Test Accuracy: 83.51449584960938\n",
      "Epoch 4, Loss: 0.3687072694301605, Accuracy: 84.34457397460938, Test Loss: 0.3639911413192749, Test Accuracy: 85.19021606445312\n",
      "Epoch 5, Loss: 0.3407963216304779, Accuracy: 85.3860092163086, Test Loss: 0.34247052669525146, Test Accuracy: 84.73731994628906\n",
      "Epoch 6, Loss: 0.3135022521018982, Accuracy: 86.85758972167969, Test Loss: 0.3141038715839386, Test Accuracy: 87.5\n",
      "Epoch 7, Loss: 0.29479628801345825, Accuracy: 87.81978607177734, Test Loss: 0.2827742099761963, Test Accuracy: 89.03985595703125\n",
      "Epoch 8, Loss: 0.27839043736457825, Accuracy: 88.6121826171875, Test Loss: 0.27371832728385925, Test Accuracy: 89.13043975830078\n",
      "Epoch 9, Loss: 0.2698533833026886, Accuracy: 88.99705505371094, Test Loss: 0.2637961804866791, Test Accuracy: 90.12681579589844\n",
      "Epoch 10, Loss: 0.2648443281650543, Accuracy: 89.26873016357422, Test Loss: 0.2613924741744995, Test Accuracy: 89.76449584960938\n",
      "Epoch 11, Loss: 0.2565637230873108, Accuracy: 89.37061309814453, Test Loss: 0.25515612959861755, Test Accuracy: 90.80615997314453\n",
      "Epoch 12, Loss: 0.24478688836097717, Accuracy: 89.95924377441406, Test Loss: 0.25583624839782715, Test Accuracy: 90.53441619873047\n",
      "Epoch 13, Loss: 0.2387806922197342, Accuracy: 90.37808227539062, Test Loss: 0.2469487190246582, Test Accuracy: 90.94203186035156\n",
      "Epoch 14, Loss: 0.2350153774023056, Accuracy: 90.75164031982422, Test Loss: 0.24229378998279572, Test Accuracy: 90.6702880859375\n",
      "Epoch 15, Loss: 0.23420052230358124, Accuracy: 90.68372344970703, Test Loss: 0.2546621859073639, Test Accuracy: 89.76449584960938\n"
     ]
    }
   ],
   "source": [
    "EPOCHS = 15\n",
    "\n",
    "for epoch in range(EPOCHS):\n",
    "  # Reset the metrics at the start of the next epoch\n",
    "  train_loss.reset_states()\n",
    "  train_accuracy.reset_states()\n",
    "  test_loss.reset_states()\n",
    "  test_accuracy.reset_states()\n",
    "\n",
    "  for images, labels in train_ds:\n",
    "    train_step(images, labels)\n",
    "\n",
    "  for test_images, test_labels in test_ds:\n",
    "    test_step(test_images, test_labels)\n",
    "\n",
    "  template = 'Epoch {}, Loss: {}, Accuracy: {}, Test Loss: {}, Test Accuracy: {}'\n",
    "  print(template.format(epoch+1,\n",
    "                        train_loss.result(),\n",
    "                        train_accuracy.result()*100,\n",
    "                        test_loss.result(),\n",
    "                        test_accuracy.result()*100))"
   ]
  }
 ],
 "metadata": {
  "kernelspec": {
   "display_name": "Python 3",
   "language": "python",
   "name": "python3"
  },
  "language_info": {
   "codemirror_mode": {
    "name": "ipython",
    "version": 3
   },
   "file_extension": ".py",
   "mimetype": "text/x-python",
   "name": "python",
   "nbconvert_exporter": "python",
   "pygments_lexer": "ipython3",
   "version": "3.6.8"
  }
 },
 "nbformat": 4,
 "nbformat_minor": 2
}

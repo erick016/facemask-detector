{
 "cells": [
  {
   "cell_type": "code",
   "execution_count": 1,
   "metadata": {},
   "outputs": [],
   "source": [
    "from utensor_cgen.api.export import tflm_keras_export"
   ]
  },
  {
   "cell_type": "code",
   "execution_count": 2,
   "metadata": {},
   "outputs": [],
   "source": [
    "from __future__ import absolute_import, division, print_function, unicode_literals\n",
    "\n",
    "import tensorflow as tf\n",
    "import numpy as np\n",
    "import os\n",
    "import cv2\n",
    "import random\n",
    "\n",
    "#dirname = os.path.dirname(__file__)\n",
    "DATADIR = os.path.join(os.getcwd(), 'Dataset')\n",
    "\n",
    "#DATADIR = \"C:/Users/jerickson/Documents/CS688/Dataset/Dataset\"\n",
    "CATEGORIES = [\"with_mask\",\"without_mask\"]\n",
    "\n",
    "all_data = []\n",
    "\n",
    "IMG_SIZE = 28\n",
    "\n",
    "def create_all_data():\n",
    "    for category in CATEGORIES:\n",
    "        path = os.path.join(DATADIR,category)\n",
    "        class_num = CATEGORIES.index(category)\n",
    "        for img in os.listdir(path):\n",
    "            try:\n",
    "                img_array = cv2.imread(os.path.join(path,img), cv2.IMREAD_GRAYSCALE)\n",
    "                new_array = cv2.resize(img_array, (IMG_SIZE, IMG_SIZE))\n",
    "                new_array = new_array / 255.0\n",
    "                all_data.append([new_array, class_num])\n",
    "            except Exception as e:\n",
    "                pass\n",
    "\n",
    "create_all_data()"
   ]
  },
  {
   "cell_type": "code",
   "execution_count": 3,
   "metadata": {},
   "outputs": [
    {
     "name": "stdout",
     "output_type": "stream",
     "text": [
      "11042\n"
     ]
    }
   ],
   "source": [
    "all_data_len = int(len(all_data))\n",
    "\n",
    "print(all_data_len)\n",
    "\n",
    "random.shuffle(all_data)\n",
    "\n",
    "test_size = int(all_data_len * 0.2)\n",
    "\n",
    "slice_1 = all_data_len - test_size\n",
    "slice_2 = -1*test_size\n",
    "train_data = all_data[:slice_1]\n",
    "test_data = all_data[slice_2:]\n",
    "\n",
    "train_features = []\n",
    "train_label = []\n",
    "\n",
    "test_features = []\n",
    "test_label = []\n",
    "\n",
    "for features,label in train_data:\n",
    "    train_features.append(features)\n",
    "    train_label.append(label)\n",
    "    \n",
    "\n",
    "\n",
    "for features,label in test_data:\n",
    "    test_features.append(features)\n",
    "    test_label.append(label)\n",
    "\n",
    "    \n",
    "train_features = np.array(train_features).reshape(-1, IMG_SIZE, IMG_SIZE, 1)\n",
    "test_features = np.array(test_features).reshape(-1, IMG_SIZE, IMG_SIZE, 1)\n",
    "\n",
    "\n",
    "train_ds = tf.data.Dataset.from_tensor_slices(\n",
    "    (train_features, train_label)).shuffle(10000).batch(32)\n",
    "\n",
    "test_ds = tf.data.Dataset.from_tensor_slices((test_features, test_label)).batch(32)\n"
   ]
  },
  {
   "cell_type": "code",
   "execution_count": 4,
   "metadata": {},
   "outputs": [
    {
     "name": "stdout",
     "output_type": "stream",
     "text": [
      "TensorFlow Version: 2.1.0\n"
     ]
    }
   ],
   "source": [
    "from tensorflow.keras.layers import Dense, Flatten, Conv2D, MaxPooling2D\n",
    "from tensorflow.keras import Model\n",
    "\n",
    "tf.keras.backend.clear_session()\n",
    "print(\"TensorFlow Version: \" + tf.__version__)"
   ]
  },
  {
   "cell_type": "code",
   "execution_count": 5,
   "metadata": {},
   "outputs": [],
   "source": [
    "class MyModel(Model):\n",
    "  def __init__(self):\n",
    "    super(MyModel, self).__init__()\n",
    "    self.conv1 = Conv2D(8, 3, activation='relu')\n",
    "    self.pool = MaxPooling2D()\n",
    "    self.flatten = Flatten()\n",
    "    self.d1 = Dense(16, activation='relu')\n",
    "    self.d2 = Dense(10)\n",
    "\n",
    "  def call(self, x):\n",
    "    x0 = self.pool(x)\n",
    "    x1 = self.conv1(x0)\n",
    "    x2 = self.pool(x1)\n",
    "    x3 = self.flatten(x2)\n",
    "    x4 = self.d1(x3)\n",
    "    return self.d2(x4)\n",
    "\n",
    "model = MyModel()"
   ]
  },
  {
   "cell_type": "code",
   "execution_count": 6,
   "metadata": {},
   "outputs": [],
   "source": [
    "loss_object = tf.keras.losses.SparseCategoricalCrossentropy(from_logits=True)\n",
    "\n",
    "optimizer = tf.keras.optimizers.Adam()"
   ]
  },
  {
   "cell_type": "code",
   "execution_count": 7,
   "metadata": {},
   "outputs": [],
   "source": [
    "train_loss = tf.keras.metrics.Mean(name='train_loss')\n",
    "train_accuracy = tf.keras.metrics.SparseCategoricalAccuracy(name='train_accuracy')\n",
    "\n",
    "test_loss = tf.keras.metrics.Mean(name='test_loss')\n",
    "test_accuracy = tf.keras.metrics.SparseCategoricalAccuracy(name='test_accuracy')"
   ]
  },
  {
   "cell_type": "code",
   "execution_count": 8,
   "metadata": {},
   "outputs": [],
   "source": [
    "@tf.function\n",
    "def train_step(images, labels):\n",
    "  with tf.GradientTape() as tape:\n",
    "    # training=True is only needed if there are layers with different\n",
    "    # behavior during training versus inference (e.g. Dropout).\n",
    "    predictions = model(images, training=True)\n",
    "    loss = loss_object(labels, predictions)\n",
    "  gradients = tape.gradient(loss, model.trainable_variables)\n",
    "  optimizer.apply_gradients(zip(gradients, model.trainable_variables))\n",
    "\n",
    "  train_loss(loss)\n",
    "  train_accuracy(labels, predictions)"
   ]
  },
  {
   "cell_type": "code",
   "execution_count": 9,
   "metadata": {},
   "outputs": [],
   "source": [
    "@tf.function\n",
    "def test_step(images, labels):\n",
    "  # training=False is only needed if there are layers with different\n",
    "  # behavior during training versus inference (e.g. Dropout).\n",
    "  predictions = model(images, training=False)\n",
    "  t_loss = loss_object(labels, predictions)\n",
    "\n",
    "  test_loss(t_loss)\n",
    "  test_accuracy(labels, predictions)"
   ]
  },
  {
   "cell_type": "code",
   "execution_count": 10,
   "metadata": {},
   "outputs": [
    {
     "name": "stdout",
     "output_type": "stream",
     "text": [
      "WARNING:tensorflow:Layer my_model is casting an input tensor from dtype float64 to the layer's dtype of float32, which is new behavior in TensorFlow 2.  The layer has dtype float32 because it's dtype defaults to floatx.\n",
      "\n",
      "If you intended to run this layer in float32, you can safely ignore this warning. If in doubt, this warning is likely only an issue if you are porting a TensorFlow 1.X model to TensorFlow 2.\n",
      "\n",
      "To change all layers to have dtype float64 by default, call `tf.keras.backend.set_floatx('float64')`. To change just this layer, pass dtype='float64' to the layer constructor. If you are the author of this layer, you can disable autocasting by passing autocast=False to the base Layer constructor.\n",
      "\n",
      "Epoch 1, Loss: 0.833448052406311, Accuracy: 65.11206817626953, Test Loss: 0.5617481470108032, Test Accuracy: 76.49456024169922\n",
      "Epoch 2, Loss: 0.5225998759269714, Accuracy: 76.9753189086914, Test Loss: 0.48930707573890686, Test Accuracy: 76.81159210205078\n",
      "Epoch 3, Loss: 0.47005510330200195, Accuracy: 79.18270111083984, Test Loss: 0.4426388740539551, Test Accuracy: 80.52536010742188\n",
      "Epoch 4, Loss: 0.44354763627052307, Accuracy: 80.45053100585938, Test Loss: 0.4155847132205963, Test Accuracy: 82.42753601074219\n",
      "Epoch 5, Loss: 0.41607382893562317, Accuracy: 81.50328063964844, Test Loss: 0.3865307569503784, Test Accuracy: 82.74456024169922\n",
      "Epoch 6, Loss: 0.39094778895378113, Accuracy: 82.99750518798828, Test Loss: 0.36886918544769287, Test Accuracy: 84.10326385498047\n",
      "Epoch 7, Loss: 0.37146592140197754, Accuracy: 83.84650421142578, Test Loss: 0.34370318055152893, Test Accuracy: 84.69203186035156\n",
      "Epoch 8, Loss: 0.356658011674881, Accuracy: 84.57097625732422, Test Loss: 0.32657352089881897, Test Accuracy: 86.32246398925781\n",
      "Epoch 9, Loss: 0.3470729887485504, Accuracy: 85.40864562988281, Test Loss: 0.3177725076675415, Test Accuracy: 86.73007202148438\n",
      "Epoch 10, Loss: 0.3403867781162262, Accuracy: 85.56713104248047, Test Loss: 0.3328131139278412, Test Accuracy: 84.46558380126953\n",
      "Epoch 11, Loss: 0.33229729533195496, Accuracy: 86.07652282714844, Test Loss: 0.3420655131340027, Test Accuracy: 85.19021606445312\n",
      "Epoch 12, Loss: 0.32592377066612244, Accuracy: 85.97464752197266, Test Loss: 0.3052382469177246, Test Accuracy: 86.9565200805664\n",
      "Epoch 13, Loss: 0.3210669159889221, Accuracy: 86.68779754638672, Test Loss: 0.2965810298919678, Test Accuracy: 86.9565200805664\n",
      "Epoch 14, Loss: 0.3140747547149658, Accuracy: 86.77835083007812, Test Loss: 0.2979421317577362, Test Accuracy: 87.18296813964844\n",
      "Epoch 15, Loss: 0.3109910786151886, Accuracy: 86.98211669921875, Test Loss: 0.28983548283576965, Test Accuracy: 88.1340560913086\n"
     ]
    }
   ],
   "source": [
    "EPOCHS = 15\n",
    "\n",
    "for epoch in range(EPOCHS):\n",
    "  # Reset the metrics at the start of the next epoch\n",
    "  train_loss.reset_states()\n",
    "  train_accuracy.reset_states()\n",
    "  test_loss.reset_states()\n",
    "  test_accuracy.reset_states()\n",
    "\n",
    "  for images, labels in train_ds:\n",
    "    train_step(images, labels)\n",
    "\n",
    "  for test_images, test_labels in test_ds:\n",
    "    test_step(test_images, test_labels)\n",
    "\n",
    "  template = 'Epoch {}, Loss: {}, Accuracy: {}, Test Loss: {}, Test Accuracy: {}'\n",
    "  print(template.format(epoch+1,\n",
    "                        train_loss.result(),\n",
    "                        train_accuracy.result()*100,\n",
    "                        test_loss.result(),\n",
    "                        test_accuracy.result()*100))"
   ]
  },
  {
   "cell_type": "code",
   "execution_count": 11,
   "metadata": {},
   "outputs": [],
   "source": [
    "# representative data function\n",
    "num_calibration_steps = 128\n",
    "calibration_dtype = tf.float32\n",
    "\n",
    "def representative_dataset_gen():\n",
    "    for _ in range(num_calibration_steps):\n",
    "        rand_idx = np.random.randint(0, test_features.shape[0]-1)\n",
    "        sample = test_features[rand_idx]\n",
    "        sample = sample[tf.newaxis, ...]\n",
    "        sample = tf.cast(sample, dtype=calibration_dtype)\n",
    "        yield [sample]"
   ]
  },
  {
   "cell_type": "code",
   "execution_count": 12,
   "metadata": {},
   "outputs": [
    {
     "name": "stdout",
     "output_type": "stream",
     "text": [
      "WARNING:tensorflow:From c:\\users\\qrrt_\\anaconda3\\envs\\env1\\lib\\site-packages\\tensorflow_core\\python\\ops\\resource_variable_ops.py:1786: calling BaseResourceVariable.__init__ (from tensorflow.python.ops.resource_variable_ops) with constraint is deprecated and will be removed in a future version.\n",
      "Instructions for updating:\n",
      "If using Keras pass *_constraint arguments to layers.\n",
      "INFO:tensorflow:Assets written to: C:\\Users\\qrrt_\\AppData\\Local\\Temp\\utensor_zl7ta5tp\\saved_model\\assets\n",
      "[WARNING base.py __attrs_post_init__ @ 300] cannot convert new_shape to generic value: [1, 288](<class 'list'>)\n",
      "[WARNING quantize.py <module> @ 12] trying to import deprecated quantization transformer\n",
      "[INFO transformer.py transform @ 23] Transforming graph: my_model\n",
      "[INFO transformer.py transform @ 24] Transform pipeline: dropout(name_pattern=r'(dropout[_\\w\\d]*)/.*') -> linear_reorder -> inline -> biasAdd -> remove_id_op -> fake_gather_v2 -> refcnt\n",
      "[WARNING base.py __attrs_post_init__ @ 300] cannot convert new_shape to generic value: [1, 288](<class 'list'>)\n",
      "[WARNING base.py __attrs_post_init__ @ 300] cannot convert new_shape to generic value: [1, 288](<class 'list'>)\n",
      "[WARNING base.py __attrs_post_init__ @ 300] cannot convert new_shape to generic value: [1, 288](<class 'list'>)\n",
      "[WARNING base.py __attrs_post_init__ @ 300] cannot convert new_shape to generic value: [1, 288](<class 'list'>)\n",
      "[WARNING ns_transformer.py transform @ 243] enabling fake_gather_v2 will force replacing GatherV2 with Gather\n",
      "[WARNING base.py __attrs_post_init__ @ 300] cannot convert new_shape to generic value: [1, 288](<class 'list'>)\n",
      "[WARNING base.py __attrs_post_init__ @ 300] cannot convert new_shape to generic value: [1, 288](<class 'list'>)\n",
      "[INFO transformer.py transform @ 31] Graph transormation done\n",
      "[INFO generic_graph_lower.py apply @ 56] topo ordered tensor life span analysis done\n",
      "[INFO utils.py wrapped @ 469] collapsed time of calling apply: 0.0050 seconds\n",
      "[INFO generic_graph_lower.py _solve_space_alloc @ 204] optimal tensor allocation plan solved, total memory required: 1440 bytes\n",
      "[INFO generic_graph_lower.py _solve_space_alloc @ 205] number of tensors allocated: 8\n",
      "[INFO utils.py wrapped @ 469] collapsed time of calling _solve_space_alloc: 0.4337 seconds\n",
      "[INFO _code_generator.py _time_slot_generate_files @ 245] model parameters header file generated: constants\\my_model\\params_my_model.hpp\n",
      "[INFO _code_generator.py _time_slot_generate_files @ 266] model header file generated: models\\my_model\\my_model.hpp\n",
      "[INFO _code_generator.py _time_slot_generate_files @ 286] model cpp file generated: models\\my_model\\my_model.cpp\n"
     ]
    }
   ],
   "source": [
    "tflm_keras_export(\n",
    "    model,\n",
    "    representive_dataset=representative_dataset_gen,\n",
    "    model_name='my_model',\n",
    "    target='utensor',\n",
    ")"
   ]
  }
 ],
 "metadata": {
  "kernelspec": {
   "display_name": "Python 3",
   "language": "python",
   "name": "python3"
  },
  "language_info": {
   "codemirror_mode": {
    "name": "ipython",
    "version": 3
   },
   "file_extension": ".py",
   "mimetype": "text/x-python",
   "name": "python",
   "nbconvert_exporter": "python",
   "pygments_lexer": "ipython3",
   "version": "3.6.8"
  }
 },
 "nbformat": 4,
 "nbformat_minor": 2
}
